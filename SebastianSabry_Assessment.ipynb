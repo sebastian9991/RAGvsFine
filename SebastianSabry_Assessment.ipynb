{
 "cells": [
  {
   "cell_type": "markdown",
   "id": "2da6991d-4b82-4f07-9660-a94d489ab3a7",
   "metadata": {},
   "source": [
    "## Installation Reqs (Linux Ubuntu)\n",
    "1. <code> python3 -m pip install playwright\n",
    "playwright install </code>"
   ]
  },
  {
   "cell_type": "code",
   "execution_count": 2,
   "id": "ccba65b2-8fe7-4ae8-8db9-779559daa472",
   "metadata": {},
   "outputs": [],
   "source": [
    "## WEB SCRAPING CELL: \n",
    "from playwright.async_api import async_playwright\n",
    "import asyncio\n",
    "async def main():\n",
    "  with async_playwright() as p:\n",
    "      browser = await p.chromium.launch(\n",
    "           proxy={\n",
    "               'server': \"http://pr.oxylabs.io:7777\",\n",
    "               \"username\": \"USERNAME\",\n",
    "               \"password\": \"PASSWORD\"\n",
    "               },\n",
    "           headless=False\n",
    "       )"
   ]
  },
  {
   "cell_type": "code",
   "execution_count": null,
   "id": "c93d2474-af25-4d5a-bd5c-ea92e563cda5",
   "metadata": {},
   "outputs": [],
   "source": []
  }
 ],
 "metadata": {
  "kernelspec": {
   "display_name": "Python 3 (ipykernel)",
   "language": "python",
   "name": "python3"
  },
  "language_info": {
   "codemirror_mode": {
    "name": "ipython",
    "version": 3
   },
   "file_extension": ".py",
   "mimetype": "text/x-python",
   "name": "python",
   "nbconvert_exporter": "python",
   "pygments_lexer": "ipython3",
   "version": "3.10.12"
  }
 },
 "nbformat": 4,
 "nbformat_minor": 5
}
